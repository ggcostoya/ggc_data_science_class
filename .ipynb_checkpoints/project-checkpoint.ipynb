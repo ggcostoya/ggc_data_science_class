{
 "cells": [
  {
   "cell_type": "markdown",
   "id": "e5712e34",
   "metadata": {},
   "source": [
    "## Parentage assignment simulation walktrough\n",
    "\n",
    "In this notebook, I will do a walkthrough of how the code for the simulations of my data science class project works. "
   ]
  },
  {
   "cell_type": "markdown",
   "id": "2200bb6e",
   "metadata": {},
   "source": [
    "### Goal \n",
    "\n",
    "The goal of this code is to estimate the probability of assigning parentage between two individuals correctly depending on the number of SNPs sampled to do so. The whole point is to see what is the minimum number of SNPs that would be needed to assign parentage correctly at least 95% of the time. The hypothesis is that sequencing fewer SNPs might yield the same results while being cheaper. "
   ]
  },
  {
   "cell_type": "code",
   "execution_count": 1,
   "id": "9295aede",
   "metadata": {},
   "outputs": [],
   "source": [
    "# import libraries needed\n",
    "\n",
    "import random as rd\n",
    "import numpy as np\n",
    "import pandas as pd"
   ]
  },
  {
   "cell_type": "markdown",
   "id": "6f372b50",
   "metadata": {},
   "source": [
    "### Step 1: Generating the parental population\n",
    "\n",
    "The first step is to generate a parental population. In this population, each individual will be defined by a sequence of $N$ SNPs which will have 4 possible values: A, T, C, G. It is important to mention that the same code would run regardless of how many and what kind of values can be assigned to SNPs.  "
   ]
  },
  {
   "cell_type": "markdown",
   "id": "a42f84b3",
   "metadata": {},
   "source": [
    "First, to generate unique parents I will use the `choices` function from the `random` package as seen below:"
   ]
  },
  {
   "cell_type": "code",
   "execution_count": 2,
   "id": "e5afd9d8",
   "metadata": {},
   "outputs": [
    {
     "data": {
      "text/plain": [
       "['C', 'T', 'T', 'G', 'G', 'G', 'G', 'G', 'T', 'G']"
      ]
     },
     "execution_count": 2,
     "metadata": {},
     "output_type": "execute_result"
    }
   ],
   "source": [
    "# define possible values for SNPS\n",
    "snp_values = [\"A\",\"T\",\"C\",\"G\"]\n",
    "\n",
    "# generate an example parent with 10 SNPs\n",
    "rd.choices(snp_values, k = 10)"
   ]
  },
  {
   "cell_type": "markdown",
   "id": "df9377ac",
   "metadata": {},
   "source": [
    "Using the same principle I will generate a parental population of X individuals with Y SNPs each:"
   ]
  },
  {
   "cell_type": "code",
   "execution_count": 3,
   "id": "efc4d563",
   "metadata": {},
   "outputs": [
    {
     "name": "stdout",
     "output_type": "stream",
     "text": [
      "[['T', 'T', 'G', 'A', 'G', 'T', 'G', 'C', 'A', 'C'], ['G', 'C', 'T', 'C', 'G', 'T', 'C', 'C', 'T', 'T'], ['G', 'G', 'A', 'A', 'G', 'T', 'C', 'A', 'C', 'T'], ['G', 'G', 'G', 'A', 'A', 'T', 'C', 'C', 'T', 'T'], ['A', 'C', 'T', 'A', 'G', 'C', 'G', 'G', 'A', 'C']]\n"
     ]
    }
   ],
   "source": [
    "# define the number of parents \n",
    "n_parents = 5\n",
    "\n",
    "# define the number of SNPs\n",
    "n_snps = 10\n",
    "\n",
    "# generate an empty lists to store parental population SNPs and info\n",
    "parent_snps = []\n",
    "parent_id = []\n",
    "\n",
    "# loop to generate parental population \n",
    "for i in range(n_parents):\n",
    "    \n",
    "    parent_snps.append(rd.choices(snp_values, k = n_snps)) # generate and add parent snps\n",
    "    \n",
    "    parent_id.append(i) # generate and add parent id\n",
    "\n",
    "# print to visualize\n",
    "print(parent_snps)"
   ]
  },
  {
   "cell_type": "markdown",
   "id": "a4d31d68",
   "metadata": {},
   "source": [
    "### Step 2: Generating offspring \n",
    "\n",
    "The second step is to generate an offspring population. For this example, they will be as many offspring as parents but it would still work if that was not the case. \n",
    "\n",
    "In the code below, first, each individual is assigned a random parent. Then, assuming perfect heritability for simplicity, the parent's SNP sequence is copied to form the offspring's sequence. "
   ]
  },
  {
   "cell_type": "code",
   "execution_count": 4,
   "id": "84dab11e",
   "metadata": {},
   "outputs": [
    {
     "name": "stdout",
     "output_type": "stream",
     "text": [
      "[1, 2, 4, 4, 4]\n"
     ]
    }
   ],
   "source": [
    "# generate empty lists to store prent ID and offspring population \n",
    "offspring_parents = []\n",
    "offspring_snps = []\n",
    "\n",
    "# loop to generate offspring population \n",
    "for i in range(n_parents):\n",
    "    \n",
    "    # pick a random parent \n",
    "    offspring_parent_id = rd.choice(parent_id)\n",
    "    \n",
    "    # attach assigned parents to the actual parents list \n",
    "    offspring_parents.append(offspring_parent_id)\n",
    "    \n",
    "    # generate and add offspring SNPS as a perfect copy of the parents \n",
    "    offspring_snps.append(parent_snps[offspring_parent_id])\n",
    "\n",
    "# visualizing which offspring was assigned which parent\n",
    "print(offspring_parents)"
   ]
  },
  {
   "cell_type": "markdown",
   "id": "895fb086",
   "metadata": {},
   "source": [
    "### Step 3: Subset the number of SNPs used\n",
    "\n",
    "Now that we know how what the parental and offspring population's SNPs look like it is time to take only a fraction of them and see if the same parental relationships are recovered. \n",
    "\n",
    "In the code below I determine the percentage of SNPs to remove. Then I select a random set of SNPs to remove based on that percentage. Then, I substitute the bases on those SNP positions for \"x\" which I used as indicators to remove them later."
   ]
  },
  {
   "cell_type": "code",
   "execution_count": 5,
   "id": "c55d2d04",
   "metadata": {},
   "outputs": [
    {
     "name": "stdout",
     "output_type": "stream",
     "text": [
      "[9, 5, 6, 1, 4]\n",
      "Parent SNP positions removed: [['x', 'x', 'x', 'x', 'x', 'T', 'G', 'C', 'A', 'C'], ['x', 'x', 'x', 'x', 'x', 'T', 'C', 'C', 'T', 'T'], ['x', 'x', 'x', 'x', 'x', 'T', 'C', 'A', 'C', 'T'], ['x', 'x', 'x', 'x', 'x', 'T', 'C', 'C', 'T', 'T'], ['x', 'x', 'x', 'x', 'x', 'C', 'G', 'G', 'A', 'C']]\n",
      "[['T', 'G', 'C', 'A', 'C'], ['T', 'C', 'C', 'T', 'T'], ['T', 'C', 'A', 'C', 'T'], ['T', 'C', 'C', 'T', 'T'], ['C', 'G', 'G', 'A', 'C']]\n"
     ]
    }
   ],
   "source": [
    "# determine the percentage of SNPs that should be removed \n",
    "p_removed = 0.5\n",
    "\n",
    "# calculate the number of SNPs that are actually removed \n",
    "n_removed = round(n_snps * p_removed) # here I need to round to get a count\n",
    "\n",
    "# define list of SNP positions \n",
    "snp_positions = list(range(n_snps))\n",
    "\n",
    "# determine the positions that should be removed\n",
    "positions_removed = rd.sample(snp_positions, n_removed)\n",
    "print(positions_removed)\n",
    "\n",
    "# initialize lists for parent and offspring snps subsampled\n",
    "parent_snps_sub = []\n",
    "offspring_snps_sub = []\n",
    "\n",
    "# loop to subset snps\n",
    "for i in range(n_parents):\n",
    "    \n",
    "    # select the parent and offspring snps \n",
    "    p_snps = parent_snps[i]\n",
    "    o_snps = offspring_snps[i]\n",
    "    \n",
    "    for j in range(len(positions_removed)):\n",
    "        \n",
    "        # assign the value of X to indicate removal\n",
    "        p_snps[j] = \"x\"\n",
    "        o_snps[j] = \"x\"\n",
    "        \n",
    "    # remove elements from both lists equaling X\n",
    "    p_snps = [x for x in p_snps if x != \"x\"]\n",
    "    o_snps = [x for x in o_snps if x != \"x\"]\n",
    "    \n",
    "    # append removed info\n",
    "    parent_snps_sub.append(p_snps)\n",
    "    offspring_snps_sub.append(o_snps)\n",
    "    \n",
    "print(\"Parent SNP positions removed:\", parent_snps)\n",
    "print(parent_snps_sub)"
   ]
  },
  {
   "cell_type": "markdown",
   "id": "1725975f",
   "metadata": {},
   "source": [
    "### Step 4: Assign parentage\n",
    "\n",
    "The next step is to use the subsetted SNPs to assign the parentage of each offspring to a member of the parental population. \n",
    "\n",
    "To do so, I first define a function called \"find_matches\" which compares to sequences adding 1 or 0 if the bases match or not and then gets a sum of all matches. I run \"find_matches\" on all parent-offspring combination and for each offspring I find the parent with the highest number of matches to assign parentage. "
   ]
  },
  {
   "cell_type": "code",
   "execution_count": 6,
   "id": "3be5aabd",
   "metadata": {},
   "outputs": [
    {
     "name": "stdout",
     "output_type": "stream",
     "text": [
      "Assigned parentage: [1, 2, 4, 4, 4]\n",
      "Real parentage: [1, 2, 4, 4, 4]\n"
     ]
    }
   ],
   "source": [
    "# generate an empty list to store assigned parentage\n",
    "offspring_assigned_parents = []\n",
    "\n",
    "# define a function to find the number of matches between 2 sequences\n",
    "def find_matches(list_a, list_b):\n",
    "\n",
    "    # define empty matches offspring\n",
    "    matches = []\n",
    "\n",
    "    # loop through first list \n",
    "    for i in range(len(list_a)):\n",
    "\n",
    "        # if elements of the list match add 1 to matches if not add 0\n",
    "        if list_a[i] == list_b[i]:\n",
    "            matches.append(1)\n",
    "        else:\n",
    "            matches.append(0)\n",
    "    return(sum(matches))\n",
    "\n",
    "# find matches between each offspring and all parents and find best parent match \n",
    "for i in range(n_parents): # offspring number = parent number, could be changed in the future\n",
    "\n",
    "    # object to store each offspring's matches\n",
    "    matches = []\n",
    "\n",
    "    # loop to find number of matches between one offspring and all parents\n",
    "    for j in range(n_parents):\n",
    "\n",
    "        # find matches between that offspring and each specific parent\n",
    "        matches.append(find_matches(offspring_snps_sub[i], parent_snps_sub[j]))\n",
    "\n",
    "    # find index for the best match\n",
    "    offspring_assigned_parents.append(matches.index(max(matches)))\n",
    "\n",
    "\n",
    "print(\"Assigned parentage:\", offspring_assigned_parents)\n",
    "print(\"Real parentage:\", offspring_parents)"
   ]
  },
  {
   "cell_type": "markdown",
   "id": "fb19c61c",
   "metadata": {},
   "source": [
    "### Step 5: Determine how well was parentage assigned\n",
    "\n",
    "Lastly, I check all offspring's assigned parentage and I get an average which then tells me the percentage of parental relationships assigned correctly. "
   ]
  },
  {
   "cell_type": "code",
   "execution_count": 7,
   "id": "b7d2d631",
   "metadata": {},
   "outputs": [
    {
     "name": "stdout",
     "output_type": "stream",
     "text": [
      "   percentage_snps  correct_parentage\n",
      "0              0.5                1.0\n"
     ]
    }
   ],
   "source": [
    "# initialize empty list to store correctly assigned parentage\n",
    "correct_parentages = []\n",
    "\n",
    "# define function to get mean \n",
    "def mean(lst):\n",
    "    return sum(lst)/len(lst)\n",
    "\n",
    "# find percentage of parentage assigned correctly\n",
    "for i in range(len(offspring_assigned_parents)):\n",
    "\n",
    "    if offspring_assigned_parents[i] == offspring_parents[i]:\n",
    "        correct_parentages.append(1) # if match do 1\n",
    "    else:\n",
    "        correct_parentages.append(0) # if not match do 0    \n",
    "\n",
    "# rehsape output into a pandas data frame object\n",
    "d = {'percentage_snps': [1 - p_removed], 'correct_parentage': [mean(correct_parentages)]}\n",
    "df = pd.DataFrame(data = d)\n",
    "print(df)"
   ]
  }
 ],
 "metadata": {
  "kernelspec": {
   "display_name": "Python 3 (ipykernel)",
   "language": "python",
   "name": "python3"
  },
  "language_info": {
   "codemirror_mode": {
    "name": "ipython",
    "version": 3
   },
   "file_extension": ".py",
   "mimetype": "text/x-python",
   "name": "python",
   "nbconvert_exporter": "python",
   "pygments_lexer": "ipython3",
   "version": "3.9.12"
  }
 },
 "nbformat": 4,
 "nbformat_minor": 5
}
