{
 "cells": [
  {
   "cell_type": "markdown",
   "id": "e5712e34",
   "metadata": {},
   "source": [
    "## Parentage assignment simulation walktrough\n",
    "\n",
    "In this notebook, I will do a walkthrough of how the code for the simulations of my Data Science class project works. "
   ]
  },
  {
   "cell_type": "markdown",
   "id": "2200bb6e",
   "metadata": {},
   "source": [
    "### Goal \n",
    "\n",
    "The goal of this code is to estimate the probability of assigning parentage between two individuals correctly depending on the number of SNPs sampled to do so. The whole point is to see what is the minimum number of SNPs that would be needed to assign parentage correctly at least 95% of the time. The hypothesis is that sequencing fewer SNPs might yield the same results while being cheaper. "
   ]
  },
  {
   "cell_type": "code",
   "execution_count": 2,
   "id": "9295aede",
   "metadata": {},
   "outputs": [],
   "source": [
    "import random as rd"
   ]
  },
  {
   "cell_type": "markdown",
   "id": "6f372b50",
   "metadata": {},
   "source": [
    "### Step 1: Generating the parental population\n",
    "\n",
    "The first step is to generate a parental population. In this population, each individual will be defined by a sequence of N SNPs which will have 3 possible values: 0, 1, 2. Assuming diploid genetics, the number zero indicates dominant homozygosity for that locus (let's say AA = 0), whereas a number of 1 indicates heterozygosity (let's say AC/CA = 1) and 2 recessive homozygosity (CC = 2). "
   ]
  },
  {
   "cell_type": "markdown",
   "id": "a42f84b3",
   "metadata": {},
   "source": [
    "To generate unique parents I will use the `choices` function from the `random` package as seen below:"
   ]
  },
  {
   "cell_type": "code",
   "execution_count": 3,
   "id": "e5afd9d8",
   "metadata": {},
   "outputs": [
    {
     "data": {
      "text/plain": [
       "[0, 2, 2, 0, 2, 2, 2, 1, 1, 0]"
      ]
     },
     "execution_count": 3,
     "metadata": {},
     "output_type": "execute_result"
    }
   ],
   "source": [
    "# define possible values for SNPS\n",
    "snp_values = [0,1,2]\n",
    "\n",
    "# generate an example parent with 10 SNPs\n",
    "rd.choices(snp_values, k = 10)"
   ]
  },
  {
   "cell_type": "markdown",
   "id": "df9377ac",
   "metadata": {},
   "source": [
    "Using the same principle I will generate a parental population of 50 individuals with 200 SNPs each:"
   ]
  },
  {
   "cell_type": "code",
   "execution_count": 7,
   "id": "efc4d563",
   "metadata": {},
   "outputs": [],
   "source": [
    "# define the number of parents \n",
    "n_parents = 50\n",
    "\n",
    "# define the number of SNPs\n",
    "n_snps = 200\n",
    "\n",
    "# generate an empty lists to store parental population SNPs and info\n",
    "parent_snps = []\n",
    "parent_id = []\n",
    "\n",
    "# loop to generate parental population \n",
    "for i in range(n_parents):\n",
    "    \n",
    "    parent_snps.append(rd.choices(snp_values, k = n_snps)) # generate and add parent snps\n",
    "    \n",
    "    parent_id.append(i) # generate and add parent id"
   ]
  },
  {
   "cell_type": "markdown",
   "id": "a4d31d68",
   "metadata": {},
   "source": [
    "### Step 2: Generating offspring \n",
    "\n",
    "The second step is to generate an offspring population"
   ]
  }
 ],
 "metadata": {
  "kernelspec": {
   "display_name": "Python 3 (ipykernel)",
   "language": "python",
   "name": "python3"
  },
  "language_info": {
   "codemirror_mode": {
    "name": "ipython",
    "version": 3
   },
   "file_extension": ".py",
   "mimetype": "text/x-python",
   "name": "python",
   "nbconvert_exporter": "python",
   "pygments_lexer": "ipython3",
   "version": "3.9.12"
  }
 },
 "nbformat": 4,
 "nbformat_minor": 5
}
